{
 "cells": [
  {
   "cell_type": "code",
   "execution_count": 1,
   "metadata": {
    "collapsed": true
   },
   "outputs": [],
   "source": [
    "import pandas as pd\n",
    "import numpy as np\n",
    "import datetime\n",
    "import seaborn as sns\n",
    "import matplotlib.pyplot as plt\n",
    "import pickle\n",
    "\n",
    "%matplotlib inline"
   ]
  },
  {
   "cell_type": "markdown",
   "metadata": {},
   "source": [
    "### Download Turnstile Data by Datecode"
   ]
  },
  {
   "cell_type": "code",
   "execution_count": 2,
   "metadata": {
    "collapsed": true
   },
   "outputs": [],
   "source": [
    "# Creates dataframe from CSVs on MTA site based on URL-ending datecodes\n",
    "def get_data(datecodes):\n",
    "    url = \"http://web.mta.info/developers/data/nyct/turnstile/turnstile_{}.txt\"\n",
    "    dfs = []\n",
    "    for datecode in datecodes:\n",
    "        file_url = url.format(datecode)\n",
    "        dfs.append(pd.read_csv(file_url))\n",
    "    return pd.concat(dfs)\n",
    "        \n",
    "# Enter datecodes in YYMMDD format\n",
    "datecodes = [170603, 170527, 160604, 160528, 150606, 150530]\n",
    "\n",
    "turnstiles_df = get_data(datecodes)"
   ]
  },
  {
   "cell_type": "code",
   "execution_count": 3,
   "metadata": {},
   "outputs": [
    {
     "data": {
      "text/html": [
       "<div>\n",
       "<style>\n",
       "    .dataframe thead tr:only-child th {\n",
       "        text-align: right;\n",
       "    }\n",
       "\n",
       "    .dataframe thead th {\n",
       "        text-align: left;\n",
       "    }\n",
       "\n",
       "    .dataframe tbody tr th {\n",
       "        vertical-align: top;\n",
       "    }\n",
       "</style>\n",
       "<table border=\"1\" class=\"dataframe\">\n",
       "  <thead>\n",
       "    <tr style=\"text-align: right;\">\n",
       "      <th></th>\n",
       "      <th>C/A</th>\n",
       "      <th>UNIT</th>\n",
       "      <th>SCP</th>\n",
       "      <th>STATION</th>\n",
       "      <th>LINENAME</th>\n",
       "      <th>DIVISION</th>\n",
       "      <th>DATE</th>\n",
       "      <th>TIME</th>\n",
       "      <th>DESC</th>\n",
       "      <th>ENTRIES</th>\n",
       "      <th>EXITS</th>\n",
       "    </tr>\n",
       "  </thead>\n",
       "  <tbody>\n",
       "    <tr>\n",
       "      <th>0</th>\n",
       "      <td>A002</td>\n",
       "      <td>R051</td>\n",
       "      <td>02-00-00</td>\n",
       "      <td>59 ST</td>\n",
       "      <td>NQR456W</td>\n",
       "      <td>BMT</td>\n",
       "      <td>05/27/2017</td>\n",
       "      <td>00:00:00</td>\n",
       "      <td>REGULAR</td>\n",
       "      <td>6195217</td>\n",
       "      <td>2098317</td>\n",
       "    </tr>\n",
       "    <tr>\n",
       "      <th>1</th>\n",
       "      <td>A002</td>\n",
       "      <td>R051</td>\n",
       "      <td>02-00-00</td>\n",
       "      <td>59 ST</td>\n",
       "      <td>NQR456W</td>\n",
       "      <td>BMT</td>\n",
       "      <td>05/27/2017</td>\n",
       "      <td>04:00:00</td>\n",
       "      <td>REGULAR</td>\n",
       "      <td>6195240</td>\n",
       "      <td>2098318</td>\n",
       "    </tr>\n",
       "    <tr>\n",
       "      <th>2</th>\n",
       "      <td>A002</td>\n",
       "      <td>R051</td>\n",
       "      <td>02-00-00</td>\n",
       "      <td>59 ST</td>\n",
       "      <td>NQR456W</td>\n",
       "      <td>BMT</td>\n",
       "      <td>05/27/2017</td>\n",
       "      <td>08:00:00</td>\n",
       "      <td>REGULAR</td>\n",
       "      <td>6195256</td>\n",
       "      <td>2098347</td>\n",
       "    </tr>\n",
       "    <tr>\n",
       "      <th>3</th>\n",
       "      <td>A002</td>\n",
       "      <td>R051</td>\n",
       "      <td>02-00-00</td>\n",
       "      <td>59 ST</td>\n",
       "      <td>NQR456W</td>\n",
       "      <td>BMT</td>\n",
       "      <td>05/27/2017</td>\n",
       "      <td>12:00:00</td>\n",
       "      <td>REGULAR</td>\n",
       "      <td>6195346</td>\n",
       "      <td>2098432</td>\n",
       "    </tr>\n",
       "    <tr>\n",
       "      <th>4</th>\n",
       "      <td>A002</td>\n",
       "      <td>R051</td>\n",
       "      <td>02-00-00</td>\n",
       "      <td>59 ST</td>\n",
       "      <td>NQR456W</td>\n",
       "      <td>BMT</td>\n",
       "      <td>05/27/2017</td>\n",
       "      <td>16:00:00</td>\n",
       "      <td>REGULAR</td>\n",
       "      <td>6195518</td>\n",
       "      <td>2098491</td>\n",
       "    </tr>\n",
       "  </tbody>\n",
       "</table>\n",
       "</div>"
      ],
      "text/plain": [
       "    C/A  UNIT       SCP STATION LINENAME DIVISION        DATE      TIME  \\\n",
       "0  A002  R051  02-00-00   59 ST  NQR456W      BMT  05/27/2017  00:00:00   \n",
       "1  A002  R051  02-00-00   59 ST  NQR456W      BMT  05/27/2017  04:00:00   \n",
       "2  A002  R051  02-00-00   59 ST  NQR456W      BMT  05/27/2017  08:00:00   \n",
       "3  A002  R051  02-00-00   59 ST  NQR456W      BMT  05/27/2017  12:00:00   \n",
       "4  A002  R051  02-00-00   59 ST  NQR456W      BMT  05/27/2017  16:00:00   \n",
       "\n",
       "      DESC  ENTRIES  \\\n",
       "0  REGULAR  6195217   \n",
       "1  REGULAR  6195240   \n",
       "2  REGULAR  6195256   \n",
       "3  REGULAR  6195346   \n",
       "4  REGULAR  6195518   \n",
       "\n",
       "   EXITS                                                                 \n",
       "0                                            2098317                     \n",
       "1                                            2098318                     \n",
       "2                                            2098347                     \n",
       "3                                            2098432                     \n",
       "4                                            2098491                     "
      ]
     },
     "execution_count": 3,
     "metadata": {},
     "output_type": "execute_result"
    }
   ],
   "source": [
    "turnstiles_df.head()"
   ]
  },
  {
   "cell_type": "markdown",
   "metadata": {},
   "source": [
    "### Download Station Coordinates and Filter by Map Area"
   ]
  },
  {
   "cell_type": "markdown",
   "metadata": {},
   "source": [
    "In order to target tech employees during their commute, we want to focus on the subway stops from 14th to 42nd Streets where many NYC tech firms have their offices."
   ]
  },
  {
   "cell_type": "code",
   "execution_count": 4,
   "metadata": {
    "collapsed": true
   },
   "outputs": [],
   "source": [
    "stations = pd.read_csv('http://web.mta.info/developers/data/nyct/subway/Stations.csv')\n",
    "\n",
    "stations = stations[['Stop Name','Daytime Routes','GTFS Latitude', 'GTFS Longitude']]\n",
    "stations.columns = ['STATION','LINENAME','LAT', 'LONG']\n",
    "stations = stations[(stations.LAT >= 40.731191) & (stations.LAT <= 40.753512) &\n",
    "                      (stations.LONG >= -74.001387) & (stations.LONG <= -73.977641)]"
   ]
  },
  {
   "cell_type": "code",
   "execution_count": 5,
   "metadata": {
    "collapsed": true
   },
   "outputs": [],
   "source": [
    "clean_stations = []\n",
    "for station in stations.STATION:\n",
    "    clean = station.upper() \\\n",
    "                     .replace(' - ','-') \\\n",
    "                     .replace('STATION', 'STA') \\\n",
    "                     .replace('GRAND CENTRAL-42 ST', 'GRD CNTRL-42 ST')\n",
    "                \n",
    "    clean_stations.append(clean)\n",
    "    \n",
    "clean_linenames = []\n",
    "for linename in stations.LINENAME:\n",
    "    clean = linename.replace(' ','')\n",
    "    clean_linenames.append(clean)\n",
    "\n",
    "stations.STATION = clean_stations\n",
    "stations.LINENAME = clean_linenames"
   ]
  },
  {
   "cell_type": "code",
   "execution_count": 6,
   "metadata": {},
   "outputs": [
    {
     "data": {
      "text/html": [
       "<div>\n",
       "<style>\n",
       "    .dataframe thead tr:only-child th {\n",
       "        text-align: right;\n",
       "    }\n",
       "\n",
       "    .dataframe thead th {\n",
       "        text-align: left;\n",
       "    }\n",
       "\n",
       "    .dataframe tbody tr th {\n",
       "        vertical-align: top;\n",
       "    }\n",
       "</style>\n",
       "<table border=\"1\" class=\"dataframe\">\n",
       "  <thead>\n",
       "    <tr style=\"text-align: right;\">\n",
       "      <th></th>\n",
       "      <th>C/A</th>\n",
       "      <th>UNIT</th>\n",
       "      <th>SCP</th>\n",
       "      <th>STATION</th>\n",
       "      <th>LINENAME</th>\n",
       "      <th>DIVISION</th>\n",
       "      <th>DATE</th>\n",
       "      <th>TIME</th>\n",
       "      <th>DESC</th>\n",
       "      <th>ENTRIES</th>\n",
       "      <th>EXITS</th>\n",
       "    </tr>\n",
       "  </thead>\n",
       "  <tbody>\n",
       "    <tr>\n",
       "      <th>0</th>\n",
       "      <td>A002</td>\n",
       "      <td>R051</td>\n",
       "      <td>02-00-00</td>\n",
       "      <td>59 ST</td>\n",
       "      <td>NQR456W</td>\n",
       "      <td>BMT</td>\n",
       "      <td>05/27/2017</td>\n",
       "      <td>00:00:00</td>\n",
       "      <td>REGULAR</td>\n",
       "      <td>6195217</td>\n",
       "      <td>2098317</td>\n",
       "    </tr>\n",
       "    <tr>\n",
       "      <th>1</th>\n",
       "      <td>A002</td>\n",
       "      <td>R051</td>\n",
       "      <td>02-00-00</td>\n",
       "      <td>59 ST</td>\n",
       "      <td>NQR456W</td>\n",
       "      <td>BMT</td>\n",
       "      <td>05/27/2017</td>\n",
       "      <td>04:00:00</td>\n",
       "      <td>REGULAR</td>\n",
       "      <td>6195240</td>\n",
       "      <td>2098318</td>\n",
       "    </tr>\n",
       "    <tr>\n",
       "      <th>2</th>\n",
       "      <td>A002</td>\n",
       "      <td>R051</td>\n",
       "      <td>02-00-00</td>\n",
       "      <td>59 ST</td>\n",
       "      <td>NQR456W</td>\n",
       "      <td>BMT</td>\n",
       "      <td>05/27/2017</td>\n",
       "      <td>08:00:00</td>\n",
       "      <td>REGULAR</td>\n",
       "      <td>6195256</td>\n",
       "      <td>2098347</td>\n",
       "    </tr>\n",
       "    <tr>\n",
       "      <th>3</th>\n",
       "      <td>A002</td>\n",
       "      <td>R051</td>\n",
       "      <td>02-00-00</td>\n",
       "      <td>59 ST</td>\n",
       "      <td>NQR456W</td>\n",
       "      <td>BMT</td>\n",
       "      <td>05/27/2017</td>\n",
       "      <td>12:00:00</td>\n",
       "      <td>REGULAR</td>\n",
       "      <td>6195346</td>\n",
       "      <td>2098432</td>\n",
       "    </tr>\n",
       "    <tr>\n",
       "      <th>4</th>\n",
       "      <td>A002</td>\n",
       "      <td>R051</td>\n",
       "      <td>02-00-00</td>\n",
       "      <td>59 ST</td>\n",
       "      <td>NQR456W</td>\n",
       "      <td>BMT</td>\n",
       "      <td>05/27/2017</td>\n",
       "      <td>16:00:00</td>\n",
       "      <td>REGULAR</td>\n",
       "      <td>6195518</td>\n",
       "      <td>2098491</td>\n",
       "    </tr>\n",
       "  </tbody>\n",
       "</table>\n",
       "</div>"
      ],
      "text/plain": [
       "    C/A  UNIT       SCP STATION LINENAME DIVISION        DATE      TIME  \\\n",
       "0  A002  R051  02-00-00   59 ST  NQR456W      BMT  05/27/2017  00:00:00   \n",
       "1  A002  R051  02-00-00   59 ST  NQR456W      BMT  05/27/2017  04:00:00   \n",
       "2  A002  R051  02-00-00   59 ST  NQR456W      BMT  05/27/2017  08:00:00   \n",
       "3  A002  R051  02-00-00   59 ST  NQR456W      BMT  05/27/2017  12:00:00   \n",
       "4  A002  R051  02-00-00   59 ST  NQR456W      BMT  05/27/2017  16:00:00   \n",
       "\n",
       "      DESC  ENTRIES  \\\n",
       "0  REGULAR  6195217   \n",
       "1  REGULAR  6195240   \n",
       "2  REGULAR  6195256   \n",
       "3  REGULAR  6195346   \n",
       "4  REGULAR  6195518   \n",
       "\n",
       "   EXITS                                                                 \n",
       "0                                            2098317                     \n",
       "1                                            2098318                     \n",
       "2                                            2098347                     \n",
       "3                                            2098432                     \n",
       "4                                            2098491                     "
      ]
     },
     "execution_count": 6,
     "metadata": {},
     "output_type": "execute_result"
    }
   ],
   "source": [
    "turnstiles_df.head()"
   ]
  },
  {
   "cell_type": "code",
   "execution_count": 7,
   "metadata": {
    "collapsed": true
   },
   "outputs": [],
   "source": [
    "df = pd.merge(turnstiles_df,stations,on='STATION')"
   ]
  },
  {
   "cell_type": "code",
   "execution_count": 8,
   "metadata": {},
   "outputs": [
    {
     "data": {
      "text/html": [
       "<div>\n",
       "<style>\n",
       "    .dataframe thead tr:only-child th {\n",
       "        text-align: right;\n",
       "    }\n",
       "\n",
       "    .dataframe thead th {\n",
       "        text-align: left;\n",
       "    }\n",
       "\n",
       "    .dataframe tbody tr th {\n",
       "        vertical-align: top;\n",
       "    }\n",
       "</style>\n",
       "<table border=\"1\" class=\"dataframe\">\n",
       "  <thead>\n",
       "    <tr style=\"text-align: right;\">\n",
       "      <th></th>\n",
       "      <th>C/A</th>\n",
       "      <th>UNIT</th>\n",
       "      <th>SCP</th>\n",
       "      <th>STATION</th>\n",
       "      <th>LINENAME_x</th>\n",
       "      <th>DIVISION</th>\n",
       "      <th>DATE</th>\n",
       "      <th>TIME</th>\n",
       "      <th>DESC</th>\n",
       "      <th>ENTRIES</th>\n",
       "      <th>EXITS</th>\n",
       "      <th>LINENAME_y</th>\n",
       "      <th>LAT</th>\n",
       "      <th>LONG</th>\n",
       "    </tr>\n",
       "  </thead>\n",
       "  <tbody>\n",
       "    <tr>\n",
       "      <th>0</th>\n",
       "      <td>A022</td>\n",
       "      <td>R022</td>\n",
       "      <td>01-00-00</td>\n",
       "      <td>34 ST-HERALD SQ</td>\n",
       "      <td>BDFMNQRW</td>\n",
       "      <td>BMT</td>\n",
       "      <td>05/27/2017</td>\n",
       "      <td>00:00:00</td>\n",
       "      <td>REGULAR</td>\n",
       "      <td>23493363</td>\n",
       "      <td>9354682</td>\n",
       "      <td>NQRW</td>\n",
       "      <td>40.749567</td>\n",
       "      <td>-73.987950</td>\n",
       "    </tr>\n",
       "    <tr>\n",
       "      <th>1</th>\n",
       "      <td>A022</td>\n",
       "      <td>R022</td>\n",
       "      <td>01-00-00</td>\n",
       "      <td>34 ST-HERALD SQ</td>\n",
       "      <td>BDFMNQRW</td>\n",
       "      <td>BMT</td>\n",
       "      <td>05/27/2017</td>\n",
       "      <td>00:00:00</td>\n",
       "      <td>REGULAR</td>\n",
       "      <td>23493363</td>\n",
       "      <td>9354682</td>\n",
       "      <td>BDFM</td>\n",
       "      <td>40.749719</td>\n",
       "      <td>-73.987823</td>\n",
       "    </tr>\n",
       "    <tr>\n",
       "      <th>2</th>\n",
       "      <td>A022</td>\n",
       "      <td>R022</td>\n",
       "      <td>01-00-00</td>\n",
       "      <td>34 ST-HERALD SQ</td>\n",
       "      <td>BDFMNQRW</td>\n",
       "      <td>BMT</td>\n",
       "      <td>05/27/2017</td>\n",
       "      <td>04:00:00</td>\n",
       "      <td>REGULAR</td>\n",
       "      <td>23493633</td>\n",
       "      <td>9354720</td>\n",
       "      <td>NQRW</td>\n",
       "      <td>40.749567</td>\n",
       "      <td>-73.987950</td>\n",
       "    </tr>\n",
       "    <tr>\n",
       "      <th>3</th>\n",
       "      <td>A022</td>\n",
       "      <td>R022</td>\n",
       "      <td>01-00-00</td>\n",
       "      <td>34 ST-HERALD SQ</td>\n",
       "      <td>BDFMNQRW</td>\n",
       "      <td>BMT</td>\n",
       "      <td>05/27/2017</td>\n",
       "      <td>04:00:00</td>\n",
       "      <td>REGULAR</td>\n",
       "      <td>23493633</td>\n",
       "      <td>9354720</td>\n",
       "      <td>BDFM</td>\n",
       "      <td>40.749719</td>\n",
       "      <td>-73.987823</td>\n",
       "    </tr>\n",
       "    <tr>\n",
       "      <th>4</th>\n",
       "      <td>A022</td>\n",
       "      <td>R022</td>\n",
       "      <td>01-00-00</td>\n",
       "      <td>34 ST-HERALD SQ</td>\n",
       "      <td>BDFMNQRW</td>\n",
       "      <td>BMT</td>\n",
       "      <td>05/27/2017</td>\n",
       "      <td>08:00:00</td>\n",
       "      <td>REGULAR</td>\n",
       "      <td>23493686</td>\n",
       "      <td>9354798</td>\n",
       "      <td>NQRW</td>\n",
       "      <td>40.749567</td>\n",
       "      <td>-73.987950</td>\n",
       "    </tr>\n",
       "  </tbody>\n",
       "</table>\n",
       "</div>"
      ],
      "text/plain": [
       "    C/A  UNIT       SCP          STATION LINENAME_x DIVISION        DATE  \\\n",
       "0  A022  R022  01-00-00  34 ST-HERALD SQ   BDFMNQRW      BMT  05/27/2017   \n",
       "1  A022  R022  01-00-00  34 ST-HERALD SQ   BDFMNQRW      BMT  05/27/2017   \n",
       "2  A022  R022  01-00-00  34 ST-HERALD SQ   BDFMNQRW      BMT  05/27/2017   \n",
       "3  A022  R022  01-00-00  34 ST-HERALD SQ   BDFMNQRW      BMT  05/27/2017   \n",
       "4  A022  R022  01-00-00  34 ST-HERALD SQ   BDFMNQRW      BMT  05/27/2017   \n",
       "\n",
       "       TIME     DESC   ENTRIES  \\\n",
       "0  00:00:00  REGULAR  23493363   \n",
       "1  00:00:00  REGULAR  23493363   \n",
       "2  04:00:00  REGULAR  23493633   \n",
       "3  04:00:00  REGULAR  23493633   \n",
       "4  08:00:00  REGULAR  23493686   \n",
       "\n",
       "   EXITS                                                                 \\\n",
       "0                                            9354682                      \n",
       "1                                            9354682                      \n",
       "2                                            9354720                      \n",
       "3                                            9354720                      \n",
       "4                                            9354798                      \n",
       "\n",
       "  LINENAME_y        LAT       LONG  \n",
       "0       NQRW  40.749567 -73.987950  \n",
       "1       BDFM  40.749719 -73.987823  \n",
       "2       NQRW  40.749567 -73.987950  \n",
       "3       BDFM  40.749719 -73.987823  \n",
       "4       NQRW  40.749567 -73.987950  "
      ]
     },
     "execution_count": 8,
     "metadata": {},
     "output_type": "execute_result"
    }
   ],
   "source": [
    "df.head()"
   ]
  },
  {
   "cell_type": "code",
   "execution_count": 9,
   "metadata": {
    "collapsed": true
   },
   "outputs": [],
   "source": [
    "# strip out whitespace\n",
    "df.columns = [column.strip() for column in df.columns]\n",
    "df.LINENAME_y = df.LINENAME_y.str.strip()\n",
    "df.LINENAME_x = df.LINENAME_x.str.strip()"
   ]
  },
  {
   "cell_type": "code",
   "execution_count": 10,
   "metadata": {},
   "outputs": [
    {
     "data": {
      "text/plain": [
       "(236645, 14)"
      ]
     },
     "execution_count": 10,
     "metadata": {},
     "output_type": "execute_result"
    }
   ],
   "source": [
    "df.shape"
   ]
  },
  {
   "cell_type": "markdown",
   "metadata": {},
   "source": [
    "There are multiple stations with the same name (e.g. 14th Street) but different lines. We need to filter out rows where LINENAME from the **Station Coordinate** table (LINENAME_y) is not in the LINENAME from the **Turnstile Table** (LINENAME_x). "
   ]
  },
  {
   "cell_type": "code",
   "execution_count": 11,
   "metadata": {
    "collapsed": true
   },
   "outputs": [],
   "source": [
    "df = df[df.apply(lambda row: row.LINENAME_y in row.LINENAME_x, axis=1)]"
   ]
  },
  {
   "cell_type": "code",
   "execution_count": 12,
   "metadata": {},
   "outputs": [
    {
     "data": {
      "text/plain": [
       "(107765, 14)"
      ]
     },
     "execution_count": 12,
     "metadata": {},
     "output_type": "execute_result"
    }
   ],
   "source": [
    "df.shape"
   ]
  },
  {
   "cell_type": "code",
   "execution_count": 13,
   "metadata": {
    "collapsed": true
   },
   "outputs": [],
   "source": [
    "df[\"DATE_TIME\"] = pd.to_datetime(df.DATE + \" \" + df.TIME, format=\"%m/%d/%Y %H:%M:%S\")\n",
    "\n",
    "df = df.sort_values(\"DATE_TIME\", ascending = True)"
   ]
  },
  {
   "cell_type": "code",
   "execution_count": 14,
   "metadata": {
    "collapsed": true
   },
   "outputs": [],
   "source": [
    "df['DAYOFWEEK'] = df['DATE_TIME'].dt.dayofweek\n",
    "\n",
    "maxdf = df.sort_values(by=['DATE_TIME']).groupby(['C/A', 'UNIT', 'SCP', 'STATION', \n",
    "                                                  'DATE_TIME', 'DATE', 'TIME', 'DAYOFWEEK'], \n",
    "                                                 as_index = False).ENTRIES.max()\n",
    "\n",
    "entrydf = maxdf.groupby(['C/A', 'UNIT', 'SCP', 'STATION', 'DATE'], as_index = False).ENTRIES.max()\n",
    "\n",
    "entrydf['DAILY'] = maxdf.groupby(['C/A', 'UNIT', 'SCP', 'STATION', 'DATE'], \n",
    "                                 as_index = False).ENTRIES.max()['ENTRIES'] - \\\n",
    "                   maxdf.groupby(['C/A', 'UNIT', 'SCP', 'STATION', 'DATE'], \n",
    "                                 as_index = False).ENTRIES.min()['ENTRIES']\n",
    "\n",
    "entrydf = entrydf.drop(['ENTRIES'], axis = 1)"
   ]
  },
  {
   "cell_type": "code",
   "execution_count": 15,
   "metadata": {
    "collapsed": true
   },
   "outputs": [],
   "source": [
    "df = pd.merge(maxdf, entrydf, on=['C/A', 'UNIT', 'SCP', 'STATION', 'DATE'])\n",
    "dfshift = df.shift(1)"
   ]
  },
  {
   "cell_type": "code",
   "execution_count": 16,
   "metadata": {
    "collapsed": true
   },
   "outputs": [],
   "source": [
    "df['PREVDT'] = dfshift['DATE_TIME']\n",
    "df['PREVENT'] = dfshift['ENTRIES']\n",
    "df['PREVTIME'] = dfshift['TIME']\n",
    "df['ENTRIESDIFF'] = df['ENTRIES'] - df['PREVENT']\n",
    "df['TIMEDIFF'] = df['DATE_TIME'] - df['PREVDT']\n",
    "df['ENTRYPROP'] = df['ENTRIESDIFF']/df['DAILY']"
   ]
  },
  {
   "cell_type": "code",
   "execution_count": 17,
   "metadata": {
    "scrolled": true
   },
   "outputs": [
    {
     "data": {
      "text/html": [
       "<div>\n",
       "<style>\n",
       "    .dataframe thead tr:only-child th {\n",
       "        text-align: right;\n",
       "    }\n",
       "\n",
       "    .dataframe thead th {\n",
       "        text-align: left;\n",
       "    }\n",
       "\n",
       "    .dataframe tbody tr th {\n",
       "        vertical-align: top;\n",
       "    }\n",
       "</style>\n",
       "<table border=\"1\" class=\"dataframe\">\n",
       "  <thead>\n",
       "    <tr style=\"text-align: right;\">\n",
       "      <th></th>\n",
       "      <th>C/A</th>\n",
       "      <th>UNIT</th>\n",
       "      <th>SCP</th>\n",
       "      <th>STATION</th>\n",
       "      <th>DATE_TIME</th>\n",
       "      <th>DATE</th>\n",
       "      <th>TIME</th>\n",
       "      <th>DAYOFWEEK</th>\n",
       "      <th>ENTRIES</th>\n",
       "      <th>DAILY</th>\n",
       "      <th>PREVDT</th>\n",
       "      <th>PREVENT</th>\n",
       "      <th>PREVTIME</th>\n",
       "      <th>ENTRIESDIFF</th>\n",
       "      <th>TIMEDIFF</th>\n",
       "      <th>ENTRYPROP</th>\n",
       "    </tr>\n",
       "  </thead>\n",
       "  <tbody>\n",
       "    <tr>\n",
       "      <th>71267</th>\n",
       "      <td>R226</td>\n",
       "      <td>R131</td>\n",
       "      <td>02-03-00</td>\n",
       "      <td>23 ST</td>\n",
       "      <td>2015-05-23 01:00:00</td>\n",
       "      <td>05/23/2015</td>\n",
       "      <td>01:00:00</td>\n",
       "      <td>5</td>\n",
       "      <td>9466120</td>\n",
       "      <td>236</td>\n",
       "      <td>2017-06-02 21:00:00</td>\n",
       "      <td>1.997627e+09</td>\n",
       "      <td>21:00:00</td>\n",
       "      <td>-1.988161e+09</td>\n",
       "      <td>-742 days +04:00:00</td>\n",
       "      <td>-8.424412e+06</td>\n",
       "    </tr>\n",
       "    <tr>\n",
       "      <th>15652</th>\n",
       "      <td>N067</td>\n",
       "      <td>R012</td>\n",
       "      <td>00-03-00</td>\n",
       "      <td>34 ST-PENN STA</td>\n",
       "      <td>2016-05-21 00:00:00</td>\n",
       "      <td>05/21/2016</td>\n",
       "      <td>00:00:00</td>\n",
       "      <td>5</td>\n",
       "      <td>2465338</td>\n",
       "      <td>843</td>\n",
       "      <td>2015-06-05 20:00:00</td>\n",
       "      <td>1.963519e+09</td>\n",
       "      <td>20:00:00</td>\n",
       "      <td>-1.961053e+09</td>\n",
       "      <td>350 days 04:00:00</td>\n",
       "      <td>-2.326279e+06</td>\n",
       "    </tr>\n",
       "    <tr>\n",
       "      <th>93524</th>\n",
       "      <td>R238A</td>\n",
       "      <td>R046</td>\n",
       "      <td>02-00-03</td>\n",
       "      <td>GRD CNTRL-42 ST</td>\n",
       "      <td>2016-05-23 16:00:00</td>\n",
       "      <td>05/23/2016</td>\n",
       "      <td>16:00:00</td>\n",
       "      <td>0</td>\n",
       "      <td>268435956</td>\n",
       "      <td>1609770862</td>\n",
       "      <td>2016-05-23 12:00:00</td>\n",
       "      <td>1.878206e+09</td>\n",
       "      <td>12:00:00</td>\n",
       "      <td>-1.609770e+09</td>\n",
       "      <td>0 days 04:00:00</td>\n",
       "      <td>-9.999994e-01</td>\n",
       "    </tr>\n",
       "    <tr>\n",
       "      <th>62128</th>\n",
       "      <td>R138</td>\n",
       "      <td>R293</td>\n",
       "      <td>00-03-05</td>\n",
       "      <td>34 ST-PENN STA</td>\n",
       "      <td>2015-05-23 02:00:00</td>\n",
       "      <td>05/23/2015</td>\n",
       "      <td>02:00:00</td>\n",
       "      <td>5</td>\n",
       "      <td>1548735</td>\n",
       "      <td>1939</td>\n",
       "      <td>2017-06-02 22:00:00</td>\n",
       "      <td>1.568689e+09</td>\n",
       "      <td>22:00:00</td>\n",
       "      <td>-1.567140e+09</td>\n",
       "      <td>-742 days +04:00:00</td>\n",
       "      <td>-8.082208e+05</td>\n",
       "    </tr>\n",
       "    <tr>\n",
       "      <th>3045</th>\n",
       "      <td>A025</td>\n",
       "      <td>R023</td>\n",
       "      <td>01-06-00</td>\n",
       "      <td>34 ST-HERALD SQ</td>\n",
       "      <td>2015-05-23 00:00:00</td>\n",
       "      <td>05/23/2015</td>\n",
       "      <td>00:00:00</td>\n",
       "      <td>5</td>\n",
       "      <td>7889196</td>\n",
       "      <td>1014</td>\n",
       "      <td>2017-06-02 20:00:00</td>\n",
       "      <td>1.556007e+09</td>\n",
       "      <td>20:00:00</td>\n",
       "      <td>-1.548118e+09</td>\n",
       "      <td>-742 days +04:00:00</td>\n",
       "      <td>-1.526743e+06</td>\n",
       "    </tr>\n",
       "  </tbody>\n",
       "</table>\n",
       "</div>"
      ],
      "text/plain": [
       "         C/A  UNIT       SCP          STATION           DATE_TIME        DATE  \\\n",
       "71267   R226  R131  02-03-00            23 ST 2015-05-23 01:00:00  05/23/2015   \n",
       "15652   N067  R012  00-03-00   34 ST-PENN STA 2016-05-21 00:00:00  05/21/2016   \n",
       "93524  R238A  R046  02-00-03  GRD CNTRL-42 ST 2016-05-23 16:00:00  05/23/2016   \n",
       "62128   R138  R293  00-03-05   34 ST-PENN STA 2015-05-23 02:00:00  05/23/2015   \n",
       "3045    A025  R023  01-06-00  34 ST-HERALD SQ 2015-05-23 00:00:00  05/23/2015   \n",
       "\n",
       "           TIME  DAYOFWEEK    ENTRIES       DAILY              PREVDT  \\\n",
       "71267  01:00:00          5    9466120         236 2017-06-02 21:00:00   \n",
       "15652  00:00:00          5    2465338         843 2015-06-05 20:00:00   \n",
       "93524  16:00:00          0  268435956  1609770862 2016-05-23 12:00:00   \n",
       "62128  02:00:00          5    1548735        1939 2017-06-02 22:00:00   \n",
       "3045   00:00:00          5    7889196        1014 2017-06-02 20:00:00   \n",
       "\n",
       "            PREVENT  PREVTIME   ENTRIESDIFF            TIMEDIFF     ENTRYPROP  \n",
       "71267  1.997627e+09  21:00:00 -1.988161e+09 -742 days +04:00:00 -8.424412e+06  \n",
       "15652  1.963519e+09  20:00:00 -1.961053e+09   350 days 04:00:00 -2.326279e+06  \n",
       "93524  1.878206e+09  12:00:00 -1.609770e+09     0 days 04:00:00 -9.999994e-01  \n",
       "62128  1.568689e+09  22:00:00 -1.567140e+09 -742 days +04:00:00 -8.082208e+05  \n",
       "3045   1.556007e+09  20:00:00 -1.548118e+09 -742 days +04:00:00 -1.526743e+06  "
      ]
     },
     "execution_count": 17,
     "metadata": {},
     "output_type": "execute_result"
    }
   ],
   "source": [
    "df = df.sort_values('ENTRIESDIFF')\n",
    "df.head()"
   ]
  },
  {
   "cell_type": "code",
   "execution_count": 18,
   "metadata": {},
   "outputs": [
    {
     "data": {
      "text/plain": [
       "(94165, 16)"
      ]
     },
     "execution_count": 18,
     "metadata": {},
     "output_type": "execute_result"
    }
   ],
   "source": [
    "# Filter out rows with incorrect/outlier time difference values\n",
    "df = df[(df['TIMEDIFF'] >= '3 hours') & (df['TIMEDIFF'] <= '5 hours')]\n",
    "\n",
    "df.shape"
   ]
  },
  {
   "cell_type": "markdown",
   "metadata": {},
   "source": [
    "More than 99% of TIMEDIFF values are exactly 4 hours"
   ]
  },
  {
   "cell_type": "code",
   "execution_count": 19,
   "metadata": {
    "scrolled": true
   },
   "outputs": [
    {
     "data": {
      "text/html": [
       "<div>\n",
       "<style>\n",
       "    .dataframe thead tr:only-child th {\n",
       "        text-align: right;\n",
       "    }\n",
       "\n",
       "    .dataframe thead th {\n",
       "        text-align: left;\n",
       "    }\n",
       "\n",
       "    .dataframe tbody tr th {\n",
       "        vertical-align: top;\n",
       "    }\n",
       "</style>\n",
       "<table border=\"1\" class=\"dataframe\">\n",
       "  <thead>\n",
       "    <tr style=\"text-align: right;\">\n",
       "      <th></th>\n",
       "      <th>TIMEDIFF</th>\n",
       "      <th>ENTRIES</th>\n",
       "    </tr>\n",
       "  </thead>\n",
       "  <tbody>\n",
       "    <tr>\n",
       "      <th>54</th>\n",
       "      <td>04:00:00</td>\n",
       "      <td>93667</td>\n",
       "    </tr>\n",
       "    <tr>\n",
       "      <th>38</th>\n",
       "      <td>03:52:56</td>\n",
       "      <td>18</td>\n",
       "    </tr>\n",
       "    <tr>\n",
       "      <th>6</th>\n",
       "      <td>03:10:22</td>\n",
       "      <td>16</td>\n",
       "    </tr>\n",
       "    <tr>\n",
       "      <th>33</th>\n",
       "      <td>03:42:47</td>\n",
       "      <td>16</td>\n",
       "    </tr>\n",
       "    <tr>\n",
       "      <th>45</th>\n",
       "      <td>03:56:45</td>\n",
       "      <td>15</td>\n",
       "    </tr>\n",
       "  </tbody>\n",
       "</table>\n",
       "</div>"
      ],
      "text/plain": [
       "   TIMEDIFF  ENTRIES\n",
       "54 04:00:00    93667\n",
       "38 03:52:56       18\n",
       "6  03:10:22       16\n",
       "33 03:42:47       16\n",
       "45 03:56:45       15"
      ]
     },
     "execution_count": 19,
     "metadata": {},
     "output_type": "execute_result"
    }
   ],
   "source": [
    "# TIME DIFFERENCES\n",
    "df.groupby('TIMEDIFF')['ENTRIES'].count().reset_index().sort_values('ENTRIES', ascending = False).head()"
   ]
  },
  {
   "cell_type": "markdown",
   "metadata": {},
   "source": [
    "We can break up the day into six 4-hour time blocks as follows for analysis of the busiest periods for our targeted tech commuters."
   ]
  },
  {
   "cell_type": "code",
   "execution_count": 20,
   "metadata": {
    "collapsed": true
   },
   "outputs": [],
   "source": [
    "# get the 6 4-hour blocks\n",
    "df.loc[(df['PREVTIME'] >= '00:00:00') & (df['TIME'] <= '06:00:00'), 'TIMEBLOCK'] = 'block1'\n",
    "df.loc[(df['PREVTIME'] >= '04:00:00') & (df['TIME'] <= '10:00:00'), 'TIMEBLOCK'] = 'block2'\n",
    "df.loc[(df['PREVTIME'] >= '08:00:00') & (df['TIME'] <= '14:00:00'), 'TIMEBLOCK'] = 'block3'\n",
    "df.loc[(df['PREVTIME'] >= '12:00:00') & (df['TIME'] <= '18:00:00'), 'TIMEBLOCK'] = 'block4'\n",
    "df.loc[(df['PREVTIME'] >= '16:00:00') & (df['TIME'] <= '22:00:00'), 'TIMEBLOCK'] = 'block5'\n",
    "df.loc[(df['PREVTIME'] >= '20:00:00') & (df['TIME'] <= '02:00:00'), 'TIMEBLOCK'] = 'block6'"
   ]
  },
  {
   "cell_type": "code",
   "execution_count": 21,
   "metadata": {},
   "outputs": [
    {
     "data": {
      "text/html": [
       "<div>\n",
       "<style>\n",
       "    .dataframe thead tr:only-child th {\n",
       "        text-align: right;\n",
       "    }\n",
       "\n",
       "    .dataframe thead th {\n",
       "        text-align: left;\n",
       "    }\n",
       "\n",
       "    .dataframe tbody tr th {\n",
       "        vertical-align: top;\n",
       "    }\n",
       "</style>\n",
       "<table border=\"1\" class=\"dataframe\">\n",
       "  <thead>\n",
       "    <tr style=\"text-align: right;\">\n",
       "      <th></th>\n",
       "      <th>C/A</th>\n",
       "      <th>UNIT</th>\n",
       "      <th>SCP</th>\n",
       "      <th>STATION</th>\n",
       "      <th>DATE_TIME</th>\n",
       "      <th>DATE</th>\n",
       "      <th>TIME</th>\n",
       "      <th>DAYOFWEEK</th>\n",
       "      <th>ENTRIES</th>\n",
       "      <th>DAILY</th>\n",
       "      <th>PREVDT</th>\n",
       "      <th>PREVENT</th>\n",
       "      <th>PREVTIME</th>\n",
       "      <th>ENTRIESDIFF</th>\n",
       "      <th>TIMEDIFF</th>\n",
       "      <th>ENTRYPROP</th>\n",
       "      <th>TIMEBLOCK</th>\n",
       "    </tr>\n",
       "  </thead>\n",
       "  <tbody>\n",
       "  </tbody>\n",
       "</table>\n",
       "</div>"
      ],
      "text/plain": [
       "Empty DataFrame\n",
       "Columns: [C/A, UNIT, SCP, STATION, DATE_TIME, DATE, TIME, DAYOFWEEK, ENTRIES, DAILY, PREVDT, PREVENT, PREVTIME, ENTRIESDIFF, TIMEDIFF, ENTRYPROP, TIMEBLOCK]\n",
       "Index: []"
      ]
     },
     "execution_count": 21,
     "metadata": {},
     "output_type": "execute_result"
    }
   ],
   "source": [
    "# check that all time blocks are assigned\n",
    "df[df['TIMEBLOCK'].isnull()]"
   ]
  },
  {
   "cell_type": "code",
   "execution_count": 22,
   "metadata": {},
   "outputs": [
    {
     "data": {
      "text/html": [
       "<div>\n",
       "<style>\n",
       "    .dataframe thead tr:only-child th {\n",
       "        text-align: right;\n",
       "    }\n",
       "\n",
       "    .dataframe thead th {\n",
       "        text-align: left;\n",
       "    }\n",
       "\n",
       "    .dataframe tbody tr th {\n",
       "        vertical-align: top;\n",
       "    }\n",
       "</style>\n",
       "<table border=\"1\" class=\"dataframe\">\n",
       "  <thead>\n",
       "    <tr style=\"text-align: right;\">\n",
       "      <th></th>\n",
       "      <th>C/A</th>\n",
       "      <th>UNIT</th>\n",
       "      <th>SCP</th>\n",
       "      <th>STATION</th>\n",
       "      <th>DATE_TIME</th>\n",
       "      <th>DATE</th>\n",
       "      <th>TIME</th>\n",
       "      <th>DAYOFWEEK</th>\n",
       "      <th>ENTRIES</th>\n",
       "      <th>DAILY</th>\n",
       "      <th>PREVDT</th>\n",
       "      <th>PREVENT</th>\n",
       "      <th>PREVTIME</th>\n",
       "      <th>ENTRIESDIFF</th>\n",
       "      <th>TIMEDIFF</th>\n",
       "      <th>ENTRYPROP</th>\n",
       "      <th>TIMEBLOCK</th>\n",
       "    </tr>\n",
       "  </thead>\n",
       "  <tbody>\n",
       "    <tr>\n",
       "      <th>11534</th>\n",
       "      <td>A037</td>\n",
       "      <td>R170</td>\n",
       "      <td>05-00-00</td>\n",
       "      <td>14 ST-UNION SQ</td>\n",
       "      <td>2017-05-25 17:00:00</td>\n",
       "      <td>05/25/2017</td>\n",
       "      <td>17:00:00</td>\n",
       "      <td>3</td>\n",
       "      <td>589824</td>\n",
       "      <td>588132</td>\n",
       "      <td>2017-05-25 13:00:00</td>\n",
       "      <td>1921.0</td>\n",
       "      <td>13:00:00</td>\n",
       "      <td>587903.0</td>\n",
       "      <td>04:00:00</td>\n",
       "      <td>0.999611</td>\n",
       "      <td>block4</td>\n",
       "    </tr>\n",
       "    <tr>\n",
       "      <th>92161</th>\n",
       "      <td>R238</td>\n",
       "      <td>R046</td>\n",
       "      <td>00-03-02</td>\n",
       "      <td>GRD CNTRL-42 ST</td>\n",
       "      <td>2017-05-22 20:00:00</td>\n",
       "      <td>05/22/2017</td>\n",
       "      <td>20:00:00</td>\n",
       "      <td>0</td>\n",
       "      <td>28718908</td>\n",
       "      <td>7718</td>\n",
       "      <td>2017-05-22 16:00:00</td>\n",
       "      <td>28714715.0</td>\n",
       "      <td>16:00:00</td>\n",
       "      <td>4193.0</td>\n",
       "      <td>04:00:00</td>\n",
       "      <td>0.543275</td>\n",
       "      <td>block5</td>\n",
       "    </tr>\n",
       "    <tr>\n",
       "      <th>92167</th>\n",
       "      <td>R238</td>\n",
       "      <td>R046</td>\n",
       "      <td>00-03-02</td>\n",
       "      <td>GRD CNTRL-42 ST</td>\n",
       "      <td>2017-05-23 20:00:00</td>\n",
       "      <td>05/23/2017</td>\n",
       "      <td>20:00:00</td>\n",
       "      <td>1</td>\n",
       "      <td>28729423</td>\n",
       "      <td>8658</td>\n",
       "      <td>2017-05-23 16:00:00</td>\n",
       "      <td>28725250.0</td>\n",
       "      <td>16:00:00</td>\n",
       "      <td>4173.0</td>\n",
       "      <td>04:00:00</td>\n",
       "      <td>0.481982</td>\n",
       "      <td>block5</td>\n",
       "    </tr>\n",
       "    <tr>\n",
       "      <th>92173</th>\n",
       "      <td>R238</td>\n",
       "      <td>R046</td>\n",
       "      <td>00-03-02</td>\n",
       "      <td>GRD CNTRL-42 ST</td>\n",
       "      <td>2017-05-24 20:00:00</td>\n",
       "      <td>05/24/2017</td>\n",
       "      <td>20:00:00</td>\n",
       "      <td>2</td>\n",
       "      <td>28740872</td>\n",
       "      <td>9764</td>\n",
       "      <td>2017-05-24 16:00:00</td>\n",
       "      <td>28736821.0</td>\n",
       "      <td>16:00:00</td>\n",
       "      <td>4051.0</td>\n",
       "      <td>04:00:00</td>\n",
       "      <td>0.414891</td>\n",
       "      <td>block5</td>\n",
       "    </tr>\n",
       "    <tr>\n",
       "      <th>92208</th>\n",
       "      <td>R238</td>\n",
       "      <td>R046</td>\n",
       "      <td>00-03-02</td>\n",
       "      <td>GRD CNTRL-42 ST</td>\n",
       "      <td>2017-05-30 20:00:00</td>\n",
       "      <td>05/30/2017</td>\n",
       "      <td>20:00:00</td>\n",
       "      <td>1</td>\n",
       "      <td>28777577</td>\n",
       "      <td>7804</td>\n",
       "      <td>2017-05-30 16:00:00</td>\n",
       "      <td>28773556.0</td>\n",
       "      <td>16:00:00</td>\n",
       "      <td>4021.0</td>\n",
       "      <td>04:00:00</td>\n",
       "      <td>0.515249</td>\n",
       "      <td>block5</td>\n",
       "    </tr>\n",
       "  </tbody>\n",
       "</table>\n",
       "</div>"
      ],
      "text/plain": [
       "        C/A  UNIT       SCP          STATION           DATE_TIME        DATE  \\\n",
       "11534  A037  R170  05-00-00   14 ST-UNION SQ 2017-05-25 17:00:00  05/25/2017   \n",
       "92161  R238  R046  00-03-02  GRD CNTRL-42 ST 2017-05-22 20:00:00  05/22/2017   \n",
       "92167  R238  R046  00-03-02  GRD CNTRL-42 ST 2017-05-23 20:00:00  05/23/2017   \n",
       "92173  R238  R046  00-03-02  GRD CNTRL-42 ST 2017-05-24 20:00:00  05/24/2017   \n",
       "92208  R238  R046  00-03-02  GRD CNTRL-42 ST 2017-05-30 20:00:00  05/30/2017   \n",
       "\n",
       "           TIME  DAYOFWEEK   ENTRIES   DAILY              PREVDT     PREVENT  \\\n",
       "11534  17:00:00          3    589824  588132 2017-05-25 13:00:00      1921.0   \n",
       "92161  20:00:00          0  28718908    7718 2017-05-22 16:00:00  28714715.0   \n",
       "92167  20:00:00          1  28729423    8658 2017-05-23 16:00:00  28725250.0   \n",
       "92173  20:00:00          2  28740872    9764 2017-05-24 16:00:00  28736821.0   \n",
       "92208  20:00:00          1  28777577    7804 2017-05-30 16:00:00  28773556.0   \n",
       "\n",
       "       PREVTIME  ENTRIESDIFF TIMEDIFF  ENTRYPROP TIMEBLOCK  \n",
       "11534  13:00:00     587903.0 04:00:00   0.999611    block4  \n",
       "92161  16:00:00       4193.0 04:00:00   0.543275    block5  \n",
       "92167  16:00:00       4173.0 04:00:00   0.481982    block5  \n",
       "92173  16:00:00       4051.0 04:00:00   0.414891    block5  \n",
       "92208  16:00:00       4021.0 04:00:00   0.515249    block5  "
      ]
     },
     "execution_count": 22,
     "metadata": {},
     "output_type": "execute_result"
    }
   ],
   "source": [
    "df = df.sort_values('ENTRIESDIFF', ascending = False)\n",
    "df.head()"
   ]
  },
  {
   "cell_type": "code",
   "execution_count": 23,
   "metadata": {},
   "outputs": [
    {
     "data": {
      "text/plain": [
       "(94117, 17)"
      ]
     },
     "execution_count": 23,
     "metadata": {},
     "output_type": "execute_result"
    }
   ],
   "source": [
    "# drop specific turnstiles with inaccurate ridership counts\n",
    "\n",
    "dropkey = ((df[\"C/A\"] == \"A037\") & \n",
    "           (df[\"UNIT\"] == \"R170\") & \n",
    "           (df[\"SCP\"] == \"05-00-00\") & \n",
    "           (df[\"STATION\"] == \"14 ST-UNION SQ\") &\n",
    "           (df[\"DATE\"] == \"05/25/2017\"))\n",
    "\n",
    "dropkey2 = ((df[\"C/A\"] == \"R238A\") & \n",
    "            (df[\"UNIT\"] == \"R046\") & \n",
    "            (df[\"SCP\"] == \"02-00-03\") & \n",
    "            (df[\"STATION\"] == \"GRD CNTRL-42 ST\") &\n",
    "            (df[\"DATE\"] == \"05/23/2016\"))\n",
    "\n",
    "dropkey3 = ((df[\"C/A\"] == \"R241A\") & \n",
    "            (df[\"UNIT\"] == \"R048\") & \n",
    "            (df[\"SCP\"] == \"00-00-00\") & \n",
    "            (df[\"STATION\"] == \"GRD CNTRL-42 ST\") &\n",
    "            ((df[\"DATE\"] == \"05/24/2017\") ^ \\\n",
    "             (df[\"DATE\"] == \"05/23/2017\") ^ \\\n",
    "             (df[\"DATE\"] == \"05/30/2017\") ^ \\\n",
    "             (df[\"DATE\"] == \"05/22/2017\") ^ \\\n",
    "             (df[\"DATE\"] == \"05/25/2017\") ^ \\\n",
    "             (df[\"DATE\"] == \"05/31/2017\")))\n",
    "\n",
    "# collect indices and drop rows\n",
    "droplist = df[dropkey].index.tolist()\n",
    "droplist = droplist + df[dropkey2].index.tolist() + df[dropkey3].index.tolist()\n",
    "\n",
    "df.drop(droplist,inplace=True)\n",
    "\n",
    "df.shape"
   ]
  },
  {
   "cell_type": "code",
   "execution_count": 24,
   "metadata": {
    "collapsed": true
   },
   "outputs": [],
   "source": [
    "# remove weekends from dataset\n",
    "df = df[(df['DAYOFWEEK'] != 5) & (df['DAYOFWEEK'] != 6)]"
   ]
  },
  {
   "cell_type": "code",
   "execution_count": 25,
   "metadata": {},
   "outputs": [
    {
     "data": {
      "image/png": "[encoded data removed]",
      "text/plain": [
       "<matplotlib.figure.Figure at 0x102124898>"
      ]
     },
     "metadata": {},
     "output_type": "display_data"
    }
   ],
   "source": [
    "# box plot of time block entries as a percentage of total daily entries\n",
    "bdf = df[(df['ENTRYPROP'] >= 0) & (df['ENTRYPROP'] <= 1)]\n",
    "\n",
    "bdf.boxplot('ENTRYPROP', by='TIMEBLOCK');"
   ]
  },
  {
   "cell_type": "code",
   "execution_count": 26,
   "metadata": {
    "collapsed": true
   },
   "outputs": [],
   "source": [
    "df = df[(df['TIMEBLOCK'] == 'block4') ^ \\\n",
    "          (df['TIMEBLOCK'] == 'block5')] \\\n",
    "           .sort_values('ENTRIESDIFF', ascending = False)\n",
    "\n",
    "# total ridership by time block, by station for last week of May and first week of June, 2015 to 2017\n",
    "tbs = df.groupby(['TIMEBLOCK', 'STATION'], as_index = False).ENTRIESDIFF.sum()\n",
    "\n",
    "tbs = tbs.sort_values('ENTRIESDIFF', ascending=False)\n",
    "\n",
    "tbs['NAME'] = tbs['STATION'] + ' - ' + tbs['TIMEBLOCK']"
   ]
  },
  {
   "cell_type": "code",
   "execution_count": 27,
   "metadata": {
    "collapsed": true
   },
   "outputs": [],
   "source": [
    "# normalized\n",
    "tbs.EntriesNorm = tbs.ENTRIESDIFF/(tbs.ENTRIESDIFF.sum())"
   ]
  },
  {
   "cell_type": "code",
   "execution_count": 28,
   "metadata": {},
   "outputs": [
    {
     "data": {
      "image/png": "[encoded data removed]",
      "text/plain": [
       "<matplotlib.figure.Figure at 0x110905ba8>"
      ]
     },
     "metadata": {},
     "output_type": "display_data"
    }
   ],
   "source": [
    "labels = [x for x in range(len(tbs.NAME))]\n",
    "plt.bar(labels, tbs.EntriesNorm, align='center')\n",
    "plt.xticks(labels, tbs.NAME, rotation='vertical')\n",
    "\n",
    "plt.show()"
   ]
  },
  {
   "cell_type": "code",
   "execution_count": 29,
   "metadata": {},
   "outputs": [
    {
     "data": {
      "text/html": [
       "<div>\n",
       "<style>\n",
       "    .dataframe thead tr:only-child th {\n",
       "        text-align: right;\n",
       "    }\n",
       "\n",
       "    .dataframe thead th {\n",
       "        text-align: left;\n",
       "    }\n",
       "\n",
       "    .dataframe tbody tr th {\n",
       "        vertical-align: top;\n",
       "    }\n",
       "</style>\n",
       "<table border=\"1\" class=\"dataframe\">\n",
       "  <thead>\n",
       "    <tr style=\"text-align: right;\">\n",
       "      <th></th>\n",
       "      <th>TIMEBLOCK</th>\n",
       "      <th>STATION</th>\n",
       "      <th>ENTRIESDIFF</th>\n",
       "      <th>NAME</th>\n",
       "      <th>TIME_INTS</th>\n",
       "    </tr>\n",
       "  </thead>\n",
       "  <tbody>\n",
       "    <tr>\n",
       "      <th>18</th>\n",
       "      <td>block5</td>\n",
       "      <td>34 ST-HERALD SQ</td>\n",
       "      <td>1392337.0</td>\n",
       "      <td>34 ST-HERALD SQ - block5</td>\n",
       "      <td>4:00 PM - 10:00 PM</td>\n",
       "    </tr>\n",
       "    <tr>\n",
       "      <th>19</th>\n",
       "      <td>block5</td>\n",
       "      <td>34 ST-PENN STA</td>\n",
       "      <td>1268702.0</td>\n",
       "      <td>34 ST-PENN STA - block5</td>\n",
       "      <td>4:00 PM - 10:00 PM</td>\n",
       "    </tr>\n",
       "    <tr>\n",
       "      <th>21</th>\n",
       "      <td>block5</td>\n",
       "      <td>GRD CNTRL-42 ST</td>\n",
       "      <td>1111903.0</td>\n",
       "      <td>GRD CNTRL-42 ST - block5</td>\n",
       "      <td>4:00 PM - 10:00 PM</td>\n",
       "    </tr>\n",
       "    <tr>\n",
       "      <th>12</th>\n",
       "      <td>block5</td>\n",
       "      <td>14 ST-UNION SQ</td>\n",
       "      <td>1109225.0</td>\n",
       "      <td>14 ST-UNION SQ - block5</td>\n",
       "      <td>4:00 PM - 10:00 PM</td>\n",
       "    </tr>\n",
       "    <tr>\n",
       "      <th>14</th>\n",
       "      <td>block5</td>\n",
       "      <td>23 ST</td>\n",
       "      <td>941134.0</td>\n",
       "      <td>23 ST - block5</td>\n",
       "      <td>4:00 PM - 10:00 PM</td>\n",
       "    </tr>\n",
       "  </tbody>\n",
       "</table>\n",
       "</div>"
      ],
      "text/plain": [
       "   TIMEBLOCK          STATION  ENTRIESDIFF                      NAME  \\\n",
       "18    block5  34 ST-HERALD SQ    1392337.0  34 ST-HERALD SQ - block5   \n",
       "19    block5   34 ST-PENN STA    1268702.0   34 ST-PENN STA - block5   \n",
       "21    block5  GRD CNTRL-42 ST    1111903.0  GRD CNTRL-42 ST - block5   \n",
       "12    block5   14 ST-UNION SQ    1109225.0   14 ST-UNION SQ - block5   \n",
       "14    block5            23 ST     941134.0            23 ST - block5   \n",
       "\n",
       "             TIME_INTS  \n",
       "18  4:00 PM - 10:00 PM  \n",
       "19  4:00 PM - 10:00 PM  \n",
       "21  4:00 PM - 10:00 PM  \n",
       "12  4:00 PM - 10:00 PM  \n",
       "14  4:00 PM - 10:00 PM  "
      ]
     },
     "execution_count": 29,
     "metadata": {},
     "output_type": "execute_result"
    }
   ],
   "source": [
    "# Overlapping time blocks account for non-standard turnstile timestamps\n",
    "'''\n",
    "0:00 to 6:00 = block1\n",
    "4:00 to 10:00 = block2\n",
    "8:00 to 14:00 = block3\n",
    "12:00 to 18:00 = block4\n",
    "16:00 to 22:00 = block5\n",
    "20:00 to 2:00 = block6\n",
    "'''\n",
    "\n",
    "# Top two time blocks by ridership: block4 and block5\n",
    "tbs.loc[tbs.TIMEBLOCK == 'block4', 'TIME_INTS'] = '12:00 PM - 6:00 PM'\n",
    "tbs.loc[tbs.TIMEBLOCK == 'block5', 'TIME_INTS'] = '4:00 PM - 10:00 PM'\n",
    "\n",
    "tbs.head()"
   ]
  },
  {
   "cell_type": "markdown",
   "metadata": {},
   "source": [
    "### Final Chart for WomenTechWomenYes"
   ]
  },
  {
   "cell_type": "code",
   "execution_count": 39,
   "metadata": {},
   "outputs": [
    {
     "data": {
      "image/png": "[encoded data removed]",
      "text/plain": [
       "<matplotlib.figure.Figure at 0x11db1b5c0>"
      ]
     },
     "metadata": {},
     "output_type": "display_data"
    }
   ],
   "source": [
    "tbs.NAME = tbs.STATION + ': ' + tbs.TIME_INTS\n",
    "\n",
    "plt.figure(figsize=(12,7))\n",
    "plt.barh(labels, tbs.EntriesNorm, align='center')\n",
    "plt.title(\"Relative Ridership\",fontsize=15)\n",
    "\n",
    "plt.yticks(labels, tbs.NAME,fontsize=12)\n",
    "plt.xticks(fontsize=12)\n",
    "\n",
    "plt.xlabel(\"PMF\",fontsize=12)\n",
    "\n",
    "plt.show()"
   ]
  }
 ],
 "metadata": {
  "kernelspec": {
   "display_name": "Python 3",
   "language": "python",
   "name": "python3"
  },
  "language_info": {
   "codemirror_mode": {
    "name": "ipython",
    "version": 3
   },
   "file_extension": ".py",
   "mimetype": "text/x-python",
   "name": "python",
   "nbconvert_exporter": "python",
   "pygments_lexer": "ipython3",
   "version": "3.6.0"
  }
 },
 "nbformat": 4,
 "nbformat_minor": 2
}
